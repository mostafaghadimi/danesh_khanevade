{
 "cells": [
  {
   "cell_type": "code",
   "execution_count": 27,
   "metadata": {
    "ExecuteTime": {
     "end_time": "2021-01-20T19:27:23.042726Z",
     "start_time": "2021-01-20T19:27:23.025841Z"
    }
   },
   "outputs": [],
   "source": [
    "import re\n",
    "import pandas as pd\n",
    "pd.options.display.max_colwidth = 200"
   ]
  },
  {
   "cell_type": "code",
   "execution_count": 29,
   "metadata": {
    "ExecuteTime": {
     "end_time": "2021-01-20T19:27:23.482517Z",
     "start_time": "2021-01-20T19:27:23.430455Z"
    }
   },
   "outputs": [],
   "source": [
    "def get_result(query):\n",
    "    df = pd.DataFrame()\n",
    "    results = !pdfgrep $query danesh-khanevadeh-full-pages-1-135.pdf -n\n",
    "    for result in results:\n",
    "        result_group = re.search('(\\d+):(.+)', result, re.IGNORECASE)\n",
    "        page_no, text = result_group.group(1), result_group.group(2)\n",
    "        df = df.append(\n",
    "            {\n",
    "                \"صفحه\": page_no,\n",
    "                \"متن\": text\n",
    "            },\n",
    "            ignore_index=True\n",
    "        )\n",
    "\n",
    "    df = df.set_index('صفحه')\n",
    "    return df"
   ]
  },
  {
   "cell_type": "code",
   "execution_count": 31,
   "metadata": {
    "ExecuteTime": {
     "end_time": "2021-01-20T19:28:06.557060Z",
     "start_time": "2021-01-20T19:27:58.564186Z"
    }
   },
   "outputs": [
    {
     "data": {
      "text/html": [
       "<div>\n",
       "<style scoped>\n",
       "    .dataframe tbody tr th:only-of-type {\n",
       "        vertical-align: middle;\n",
       "    }\n",
       "\n",
       "    .dataframe tbody tr th {\n",
       "        vertical-align: top;\n",
       "    }\n",
       "\n",
       "    .dataframe thead th {\n",
       "        text-align: right;\n",
       "    }\n",
       "</style>\n",
       "<table border=\"1\" class=\"dataframe\">\n",
       "  <thead>\n",
       "    <tr style=\"text-align: right;\">\n",
       "      <th></th>\n",
       "      <th>متن</th>\n",
       "    </tr>\n",
       "    <tr>\n",
       "      <th>صفحه</th>\n",
       "      <th></th>\n",
       "    </tr>\n",
       "  </thead>\n",
       "  <tbody>\n",
       "    <tr>\n",
       "      <th>7</th>\n",
       "      <td>‫یک‪ .‬خودارضایی‬       ‫‪48‬‬</td>\n",
       "    </tr>\n",
       "    <tr>\n",
       "      <th>44</th>\n",
       "      <td>‫و آن را تعدی و تجاوز نامیده است‪« 2.‬خودارضایی»‪« ،‬رابطه جنسی با هم‌جنس» و «روابط‬</td>\n",
       "    </tr>\n",
       "    <tr>\n",
       "      <th>48</th>\n",
       "      <td>‫یک‪ .‬خودارضایی‬</td>\n",
       "    </tr>\n",
       "    <tr>\n",
       "      <th>48</th>\n",
       "      <td>‫شمرده می‌شود‪ .‬امام صادق؟ع؟ در پاسخ به سؤالی درباره خودارضایی فرمود‪« :‬گناه بزرگی‬</td>\n",
       "    </tr>\n",
       "    <tr>\n",
       "      <th>48</th>\n",
       "      <td>‫‪ .2‬خودارضایی مکرر باعث تحریک بیش از حد سیستم عصبی پاراسمپاتیک و افزایش تخلیه استیل کولین‬</td>\n",
       "    </tr>\n",
       "  </tbody>\n",
       "</table>\n",
       "</div>"
      ],
      "text/plain": [
       "                                                                                                                                     متن\n",
       "صفحه                                                                                                                                    \n",
       "7                                                                                                         ‫یک‪ .‬خودارضایی‬       ‫‪48‬‬\n",
       "44                                                  ‫و آن را تعدی و تجاوز نامیده است‪« 2.‬خودارضایی»‪« ،‬رابطه جنسی با هم‌جنس» و «روابط‬\n",
       "48                                                                                                                     ‫یک‪ .‬خودارضایی‬\n",
       "48                                                 ‫شمرده می‌شود‪ .‬امام صادق؟ع؟ در پاسخ به سؤالی درباره خودارضایی فرمود‪« :‬گناه بزرگی‬\n",
       "48                                          ‫‪ .2‬خودارضایی مکرر باعث تحریک بیش از حد سیستم عصبی پاراسمپاتیک و افزایش تخلیه استیل کولین‬"
      ]
     },
     "execution_count": 31,
     "metadata": {},
     "output_type": "execute_result"
    }
   ],
   "source": [
    "get_result('خودارضایی')"
   ]
  }
 ],
 "metadata": {
  "kernelspec": {
   "display_name": "Python 3",
   "language": "python",
   "name": "python3"
  },
  "language_info": {
   "codemirror_mode": {
    "name": "ipython",
    "version": 3
   },
   "file_extension": ".py",
   "mimetype": "text/x-python",
   "name": "python",
   "nbconvert_exporter": "python",
   "pygments_lexer": "ipython3",
   "version": "3.8.5"
  }
 },
 "nbformat": 4,
 "nbformat_minor": 4
}
